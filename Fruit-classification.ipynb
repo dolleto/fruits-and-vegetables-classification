{
 "cells": [
  {
   "cell_type": "markdown",
   "metadata": {},
   "source": [
    "In supermarkets, loose fruits and vegetables need to be weighted to determine te price to pay. In some supermarkets weighing is done by workers, in others it's done by the customers themselves. To avoid fraud or reduce the number of employees dedicated to this task (which is tedious and costly), we propose a system that would automatically recognize the type of fruit or vegetable while weighting. Such a system would also be useful to have a more up-to-date information on stocks in the section. \n",
    "\n",
    "The goal of this RAMP is to provide a proof of concept of the system and to assess its feasibility in a simpler case before more sophisticated developement.\n",
    "\n",
    "image cool a insérer"
   ]
  },
  {
   "cell_type": "markdown",
   "metadata": {},
   "source": [
    "For this POC, the number of classes has been limited to 5 types of fruits () and 5 types of vegetables (). We used an API from Bing :  nom de l'API. How does it work? To verify the quality of the dataset, we checked it manually and removed errors. That was time consumming, therfore we had to limit the size of dataset to X images by class. As the background enviromnent is a supermarket, images without background are not enough. It was important to have a dataset both with and without backgrounds.\n",
    "\n",
    "The goal of this system is to determine the class of the product to determine its price (per kg). If the system predicts a wrong class, the price will be inacurate. If the price price is lower than the real one, companies will loose money, if it higher clients will be unsatisfied and claim for a discount. The loss of income can therefore we direclty related to the accuracy of the algorithm. As the goal of the system is to replace employees or customers, it needs to have a high accuracy before being released. For the moment, we have an accuracy of X % for our POC, we would like to have an accuracy of at least Y % to validate this Poc and go further in experimentation.\n",
    "\n",
    "If this POC is validated, we could :\n",
    "- extend this system to classify more types of fruitsn vegetables, and other loose goods\n",
    "- take into account multiple varieties for one class (beafsteak tomatos, cherry tomatos, cold & green tomatos,...)\n",
    "\n",
    "\n",
    "We should keep in mind that this is only a Poc so the case is a simpler case. Developing these extensions would requiere to overcome new difficulties : much more larger dataset, unbalanced dataset...\n",
    "These difficulties could be addressed in a new challenge !\n",
    "\n"
   ]
  },
  {
   "cell_type": "markdown",
   "metadata": {},
   "source": [
    "Liens qui être utiles/ présentent pourquoi le sujet est interessant :\n",
    "\n",
    "https://ac.els-cdn.com/S016816990900180X/1-s2.0-S016816990900180X-main.pdf?_tid=59001dbe-a574-41ca-be6d-82c8e1861665&acdnat=1548153802_e2ac8effa1d33d978a64b537f858468f\n",
    "\n",
    "https://github.com/Horea94/Fruit-Images-Dataset\n",
    "\n",
    "https://www.cs.toronto.edu/~kriz/cifar.html (cifar Dataset : contient un subdataset fuit and vegetable)\n",
    "\n",
    "RobustApproachforFruitandVegetableClassification (article PDF)\n",
    "\n"
   ]
  }
 ],
 "metadata": {
  "kernelspec": {
   "display_name": "Python 3",
   "language": "python",
   "name": "python3"
  },
  "language_info": {
   "codemirror_mode": {
    "name": "ipython",
    "version": 3
   },
   "file_extension": ".py",
   "mimetype": "text/x-python",
   "name": "python",
   "nbconvert_exporter": "python",
   "pygments_lexer": "ipython3",
   "version": "3.6.5"
  }
 },
 "nbformat": 4,
 "nbformat_minor": 2
}
