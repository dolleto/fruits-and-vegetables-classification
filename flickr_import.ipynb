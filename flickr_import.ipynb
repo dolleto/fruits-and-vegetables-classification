{
 "cells": [
  {
   "cell_type": "code",
   "execution_count": 17,
   "metadata": {},
   "outputs": [],
   "source": [
    "import flickr_api\n",
    "from flickr_api import Walker, Photo\n",
    "flickr_api.set_keys(api_key = 'cd416c8ca026014219e741ab3bee8349', api_secret = '247a543ad1bdc34d')\n",
    "nb_photos = 5\n",
    "\n",
    "w = Walker(Photo.search, tags=\"banana\")\n",
    "photo=w.next()\n",
    "for i in range(nb_photos):\n",
    "    filename = str(i)\n",
    "    photo.save(filename, size_label = 'Medium 640')\n",
    "    photo=w.next()"
   ]
  },
  {
   "cell_type": "code",
   "execution_count": null,
   "metadata": {},
   "outputs": [],
   "source": []
  }
 ],
 "metadata": {
  "kernelspec": {
   "display_name": "env_datacamp",
   "language": "python",
   "name": "env_datacamp"
  },
  "language_info": {
   "codemirror_mode": {
    "name": "ipython",
    "version": 3
   },
   "file_extension": ".py",
   "mimetype": "text/x-python",
   "name": "python",
   "nbconvert_exporter": "python",
   "pygments_lexer": "ipython3",
   "version": "3.6.7"
  }
 },
 "nbformat": 4,
 "nbformat_minor": 2
}
